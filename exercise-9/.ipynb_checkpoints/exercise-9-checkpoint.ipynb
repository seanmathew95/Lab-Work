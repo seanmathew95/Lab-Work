{
 "cells": [
  {
   "cell_type": "markdown",
   "metadata": {},
   "source": [
    "# Exercise 9\n",
    "\n",
    "\n",
    "    How many fossils are included in the dataset?\n",
    "    2946\n",
    "    How many fossils have been identified to genus-level only? How many to species-level?\n",
    "    genus: 607 \n",
    "    species: 2106\n",
    "    How many unique accepted names are part of this dataset?\n",
    "    211\n",
    "\n",
    "\n",
    "\n",
    "\n",
    "\n",
    "\n",
    "\n",
    "    How can we change the sampling frequency of our PyRate run?\n",
    "    use the -s flag\n",
    "    What does the -n flag achieve?\n",
    "    it changes the mcmc generations\n",
    "    \n",
    "    \n",
    "    \n",
    "## Summary\n",
    "    \n",
    "canid_occ_1_marginal_rates.log : Tab-separated table with the posterior samples of the marginal rates of speciation, extinction, and net diversification, calculated within 1 time unit (typically Myr).\n",
    "\n",
    "\n",
    "\n",
    "\n",
    "canid_occ_1_mcmc.log : Tab-separated table with the MCMC samples of the posterior, prior, likelihoods of the preservation process and of the birth-death (indicated by PP_lik and BD_lik, respectively), the preservation rate (q_rate), the shape parameter of its gamma-distributed heterogeneity (alpha), the number of sampled rate shifts (k_birth, k_death), the time of origin of the oldest lineage (root_age), the total branch length (tot_length), and the times of speciation and extinction of all taxa in the data set (\\_TS* and \\_TE, respectively). When using the TPP model of preservation, the preservation rates between shifts are indicated as *q_0, q_1, ... q_n (from older to younger).\n",
    "\n",
    "\n",
    "\n",
    "\n",
    "canid_occ_1_sum.txt : Text file providing the complete list of settings used in the analysis. "
   ]
  },
  {
   "cell_type": "markdown",
   "metadata": {
    "collapsed": true
   },
   "source": [
    "# Homework\n",
    "\n",
    "\n",
    "a. Describe the changes in Speciation rates across the Canidae lineage. \n",
    "50 million years ago, the specieation rate was roughly 0.25, and remained so until about 35 million years go, when it began to drop until it reached about 0.1 around 15 million years ago. The speciation rate then remained constant for 10 million years, until 5 million years ago, when it shot up to 0.3 and remains so until today. \n",
    "\n",
    "b. Describe the changes in Extinction rates across the Canidae lineage. \n",
    "The extinction rate remained constant at about 0.1 from 50 million years ago to very recently, when it shot up to 1.0, increasing ten-fold. \n",
    "\n",
    "c. Describe the changes in Diversification rates across the Canidae lineage.\n",
    "The diversification rate started out slightly positive(~0.2) 50 million years ago and steadily declined to slightly negative(~-0.1) at around 5 million years ago. It then quickly increased to its original value 50 million years ago and sharply dropped to -.75, and has remained so until today. \n",
    "\n",
    "Do you see anything different about the 2,500,000 RTT plots compared to the ones you had made with only 250,000 steps in the MCMC chain?\n",
    "The speciation graph shows sharper drops at roughly 20 and 30 million years ago. The extinction rate graph has smaller error values(thinner ribbon around the curve). The diversification graph aslos shows sharper drops at roughly 20 and 30 million years ago. "
   ]
  }
 ],
 "metadata": {
  "anaconda-cloud": {},
  "kernelspec": {
   "display_name": "Python [default]",
   "language": "python",
   "name": "python3"
  },
  "language_info": {
   "codemirror_mode": {
    "name": "ipython",
    "version": 3
   },
   "file_extension": ".py",
   "mimetype": "text/x-python",
   "name": "python",
   "nbconvert_exporter": "python",
   "pygments_lexer": "ipython3",
   "version": "3.5.2"
  }
 },
 "nbformat": 4,
 "nbformat_minor": 2
}
