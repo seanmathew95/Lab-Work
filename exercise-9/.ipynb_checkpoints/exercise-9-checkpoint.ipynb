{
 "cells": [
  {
   "cell_type": "markdown",
   "metadata": {},
   "source": [
    "# Exercise 9\n",
    "\n",
    "\n",
    "    How many fossils are included in the dataset?\n",
    "    2946\n",
    "    How many fossils have been identified to genus-level only? How many to species-level?\n",
    "    genus: 607 \n",
    "    species: 2106\n",
    "    How many unique accepted names are part of this dataset?\n",
    "    211\n",
    "\n",
    "\n",
    "\n",
    "\n",
    "\n",
    "\n",
    "\n",
    "    How can we change the sampling frequency of our PyRate run?\n",
    "    use the -s flag\n",
    "    What does the -n flag achieve?\n",
    "    it changes the mcmc generations\n",
    "    \n",
    "    \n",
    "    \n",
    "## Summary\n",
    "    \n",
    "canid_occ_1_marginal_rates.log \n",
    "\n",
    "Tab-separated table with the posterior samples of the marginal rates of speciation, extinction, and net diversification, calculated within 1 time unit (typically Myr).\n",
    "\n",
    "\n",
    "\n",
    "\n",
    "canid_occ_1_mcmc.log \n",
    "\n",
    "Tab-separated table with the MCMC samples of the posterior, prior, likelihoods of the preservation process and of the birth-death (indicated by PP_lik and BD_lik, respectively), the preservation rate (q_rate), the shape parameter of its gamma-distributed heterogeneity (alpha), the number of sampled rate shifts (k_birth, k_death), the time of origin of the oldest lineage (root_age), the total branch length (tot_length), and the times of speciation and extinction of all taxa in the data set (\\_TS* and \\_TE, respectively). When using the TPP model of preservation, the preservation rates between shifts are indicated as *q_0, q_1, ... q_n (from older to younger).\n",
    "\n",
    "\n",
    "\n",
    "\n",
    "canid_occ_1_sum.txt\n",
    "\n",
    "Text file providing the complete list of settings used in the analysis. "
   ]
  }
 ],
 "metadata": {
  "anaconda-cloud": {},
  "kernelspec": {
   "display_name": "Python [default]",
   "language": "python",
   "name": "python3"
  },
  "language_info": {
   "codemirror_mode": {
    "name": "ipython",
    "version": 3
   },
   "file_extension": ".py",
   "mimetype": "text/x-python",
   "name": "python",
   "nbconvert_exporter": "python",
   "pygments_lexer": "ipython3",
   "version": "3.5.2"
  }
 },
 "nbformat": 4,
 "nbformat_minor": 2
}
