{
 "cells": [
  {
   "cell_type": "markdown",
   "metadata": {
    "collapsed": false
   },
   "source": [
    "#Sequence Finding"
   ]
  },
  {
   "cell_type": "markdown",
   "metadata": {
    "collapsed": false
   },
   "source": [
    "first we must import re to use regular expressions"
   ]
  },
  {
   "cell_type": "markdown",
   "metadata": {
    "collapsed": false
   },
   "source": [
    "We can read through a file with a for loop, but it will consider each line separately.\n",
    "Since the sequences are broken up into many lines, it will recognize a sequence as many lines\n",
    "To fix this, we should replace the \"\\/n\" characters with nothing, so the sequence is uninterrupted.\n",
    "then take in the contig number using the \">\" character to locate it\n",
    "A for loop can intake the nubmer of AATG per line\n",
    "One last loop can match both lists in a dictionary\n",
    "\n",
    "\n"
   ]
  },
  {
   "cell_type": "code",
   "execution_count": 158,
   "metadata": {
    "collapsed": false
   },
   "outputs": [
    {
     "name": "stdout",
     "output_type": "stream",
     "text": [
      "{'contig00565': 0, 'contig01341': 0, 'contig01350': 0, 'contig00427': 0, 'contig01273': 0, 'contig00509': 5, 'contig01325': 20, 'contig01281': 17, 'contig01299': 11, 'contig01145': 0, 'contig00257': 1, 'contig01240': 1, 'contig01246': 0, 'contig00954': 0, 'contig01287': 8, 'contig00528': 0, 'contig00182': 0, 'contig01187': 0, 'contig01066': 1, 'contig01261': 1, 'contig00835': 2, 'contig01197': 3, 'contig00064': 3, 'contig01173': 0, 'contig01009': 0, 'contig00692': 1, 'contig00865': 1, 'contig01134': 0, 'contig00188': 1, 'contig00535': 1, 'contig00727': 1, 'contig00044': 0, 'contig01220': 0, 'contig00236': 13, 'contig01323': 0, 'contig00296': 4, 'contig01096': 1, 'contig00738': 0, 'contig00651': 0, 'contig00913': 2, 'contig00846': 0, 'contig00668': 1, 'contig00844': 2, 'contig00845': 2, 'contig00394': 0, 'contig00833': 3, 'contig00277': 0, 'contig00956': 1, 'contig01235': 2, 'contig00906': 3, 'contig01114': 3, 'contig00940': 10, 'contig00438': 2, 'contig01238': 3, 'contig00508': 2, 'contig00358': 0, 'contig01061': 3, 'contig00807': 1, 'contig00220': 2, 'contig01222': 8, 'contig00598': 0, 'contig00649': 1, 'contig01349': 0, 'contig00393': 0, 'contig00890': 2, 'contig00194': 0, 'contig00318': 1, 'contig01084': 0, 'contig00943': 0, 'contig00241': 3, 'contig00920': 5, 'contig01188': 1, 'contig00808': 0, 'contig00871': 5, 'contig00078': 0, 'contig01153': 1, 'contig00521': 0, 'contig00424': 1, 'contig00096': 0, 'contig00500': 2, 'contig01364': 2, 'contig00461': 1, 'contig01334': 1, 'contig00497': 1, 'contig01230': 0, 'contig01060': 1, 'contig01282': 5, 'contig00742': 0, 'contig01192': 0, 'contig01171': 3, 'contig00203': 0, 'contig00732': 0, 'contig00145': 1, 'contig01144': 0, 'contig01008': 5, 'contig01117': 1, 'contig00571': 0, 'contig01298': 1, 'contig01043': 1, 'contig00052': 0, 'contig00886': 0, 'contig00879': 5, 'contig01058': 3, 'contig00837': 0, 'contig00157': 1, 'contig00472': 1, 'contig00467': 1, 'contig00454': 0, 'contig01378': 5, 'contig00470': 0, 'contig00370': 6, 'contig00525': 2, 'contig01300': 6, 'contig00950': 7, 'contig00412': 1, 'contig00574': 0, 'contig00428': 1, 'contig00703': 0, 'contig00537': 2, 'contig01003': 6, 'contig00373': 2, 'contig01250': 0, 'contig00201': 3, 'contig00433': 0, 'contig01228': 4, 'contig00226': 5, 'contig01185': 1, 'contig00140': 2, 'contig00553': 0, 'contig01014': 2, 'contig00893': 2, 'contig00492': 0, 'contig01133': 1, 'contig00175': 1, 'contig01177': 4, 'contig00576': 4, 'contig01104': 3, 'contig00242': 0, 'contig00731': 0, 'contig01184': 0, 'contig00137': 0, 'contig00255': 1, 'contig01344': 0, 'contig00762': 4, 'contig00591': 1, 'contig00037': 6, 'contig00752': 4, 'contig00795': 1, 'contig01001': 2, 'contig00551': 0, 'contig01031': 0, 'contig01373': 0, 'contig00988': 0, 'contig01051': 2, 'contig01278': 1, 'contig00584': 6, 'contig01268': 1, 'contig00378': 0, 'contig00743': 0, 'contig00001': 4, 'contig00360': 0, 'contig01191': 0, 'contig01012': 0, 'contig00611': 1, 'contig00603': 0, 'contig00813': 0, 'contig00027': 2, 'contig01077': 1, 'contig00012': 1, 'contig00477': 4, 'contig01172': 2, 'contig01004': 4, 'contig01342': 0, 'contig01049': 1, 'contig00529': 4, 'contig00032': 0, 'contig00740': 0, 'contig00132': 2, 'contig00755': 4, 'contig00885': 2, 'contig01047': 1, 'contig01227': 4, 'contig00154': 2, 'contig00834': 1, 'contig00687': 1, 'contig01170': 2, 'contig00302': 7, 'contig00006': 10, 'contig01263': 4, 'contig01209': 2, 'contig00259': 0, 'contig00165': 0, 'contig00090': 0, 'contig00180': 0, 'contig00149': 1, 'contig00655': 2, 'contig01355': 0, 'contig00624': 0, 'contig00642': 0, 'contig00074': 1, 'contig01307': 2, 'contig00747': 1, 'contig00152': 0, 'contig01149': 6, 'contig00998': 0, 'contig00937': 0, 'contig00665': 0, 'contig00942': 0, 'contig00970': 6, 'contig00733': 5, 'contig00858': 0, 'contig01158': 3, 'contig00166': 0, 'contig01294': 3, 'contig00359': 0, 'contig01150': 4, 'contig00161': 1, 'contig00030': 0, 'contig00116': 1, 'contig01087': 1, 'contig01083': 1, 'contig00512': 3, 'contig01002': 1, 'contig00770': 0, 'contig00867': 5, 'contig00046': 7, 'contig00440': 0, 'contig01332': 3, 'contig00538': 7, 'contig00029': 3, 'contig00016': 7, 'contig01291': 4, 'contig00957': 0, 'contig00944': 10, 'contig00583': 10, 'contig00788': 2, 'contig00629': 0, 'contig01367': 7, 'contig00026': 0, 'contig00213': 1, 'contig01269': 1, 'contig00704': 0, 'contig00618': 0, 'contig00210': 0, 'contig00737': 0, 'contig01175': 1, 'contig00903': 7, 'contig01359': 0, 'contig00791': 0, 'contig01118': 1, 'contig00627': 0, 'contig01006': 1, 'contig00961': 1, 'contig01194': 1, 'contig01072': 1, 'contig00186': 1, 'contig00049': 2, 'contig00862': 0, 'contig01360': 0, 'contig00991': 29, 'contig00730': 1, 'contig00364': 4, 'contig00640': 0, 'contig01111': 0, 'contig00917': 2, 'contig00787': 4, 'contig00483': 0, 'contig00320': 1, 'contig00003': 1, 'contig00694': 0, 'contig00504': 1, 'contig01056': 1, 'contig01201': 0, 'contig00102': 0, 'contig00881': 1, 'contig00729': 0, 'contig00946': 8, 'contig00094': 0, 'contig00680': 6, 'contig00792': 0, 'contig00415': 0, 'contig00204': 0, 'contig00414': 2, 'contig00965': 0, 'contig00907': 0, 'contig01372': 17, 'contig01257': 1, 'contig00604': 0, 'contig00392': 0, 'contig00464': 1, 'contig00960': 1, 'contig00246': 9, 'contig01040': 19, 'contig00785': 1, 'contig00550': 10, 'contig00371': 3, 'contig00097': 0, 'contig00975': 0, 'contig01248': 1, 'contig01179': 1, 'contig00073': 0, 'contig00596': 3, 'contig00869': 0, 'contig01168': 0, 'contig01353': 8, 'contig00803': 0, 'contig00486': 1, 'contig00609': 0, 'contig00819': 3, 'contig01183': 2, 'contig00804': 1, 'contig00562': 4, 'contig01103': 2, 'contig00926': 0, 'contig01098': 1, 'contig00361': 0, 'contig00533': 2, 'contig00013': 4, 'contig00357': 9, 'contig01033': 2, 'contig00128': 1, 'contig00801': 0, 'contig01224': 0, 'contig00230': 0, 'contig00606': 0, 'contig00501': 0, 'contig01205': 2, 'contig00772': 2, 'contig00698': 2, 'contig00923': 7, 'contig01129': 0, 'contig00987': 3, 'contig01045': 2, 'contig00564': 2, 'contig00685': 1, 'contig00218': 0, 'contig00176': 0, 'contig01050': 1, 'contig00042': 3, 'contig00784': 0, 'contig00554': 3, 'contig00633': 1, 'contig00082': 8, 'contig00775': 2, 'contig01214': 0, 'contig01005': 1, 'contig01115': 20, 'contig00895': 5, 'contig01037': 1, 'contig00696': 0, 'contig00812': 0, 'contig01333': 0, 'contig01206': 0, 'contig01338': 2, 'contig00983': 1, 'contig00381': 0, 'contig00789': 2, 'contig00195': 0, 'contig00059': 3, 'contig00418': 0, 'contig00287': 1, 'contig00842': 0, 'contig01326': 0, 'contig00239': 27, 'contig00249': 18, 'contig00836': 2, 'contig00527': 2, 'contig00620': 0, 'contig01142': 1, 'contig01384': 28, 'contig00481': 0, 'contig00208': 2, 'contig00223': 1, 'contig00872': 5, 'contig00635': 1, 'contig00421': 0, 'contig00410': 0, 'contig00900': 0, 'contig00817': 3, 'contig00780': 1, 'contig00938': 1, 'contig01112': 1, 'contig01052': 0, 'contig00532': 0, 'contig00992': 4, 'contig00507': 5, 'contig00567': 12, 'contig01262': 0, 'contig00719': 0, 'contig01316': 0, 'contig00810': 0, 'contig00669': 2, 'contig01109': 0, 'contig00033': 1, 'contig00864': 0, 'contig01094': 20, 'contig01071': 2, 'contig00321': 1, 'contig00661': 0, 'contig00840': 3, 'contig00658': 1, 'contig00621': 2, 'contig01099': 2, 'contig00802': 0, 'contig00138': 2, 'contig01231': 4, 'contig01258': 0, 'contig00548': 0, 'contig01091': 1, 'contig01271': 2, 'contig01283': 6, 'contig00693': 1, 'contig00035': 2, 'contig00645': 1, 'contig01232': 5, 'contig00848': 4, 'contig00717': 0, 'contig01165': 2, 'contig00973': 1, 'contig01113': 4, 'contig00866': 2, 'contig00602': 0, 'contig00754': 1, 'contig01303': 0, 'contig00505': 0, 'contig00375': 2, 'contig00578': 4, 'contig00056': 2, 'contig00191': 1, 'contig00969': 0, 'contig00828': 7, 'contig01141': 0, 'contig00278': 0, 'contig00329': 0, 'contig00829': 1, 'contig00351': 0, 'contig00062': 0, 'contig01182': 1, 'contig00071': 0, 'contig00707': 0, 'contig00045': 1, 'contig00974': 1, 'contig00939': 2, 'contig01202': 0, 'contig00894': 2, 'contig01306': 0, 'contig01253': 1, 'contig00820': 0, 'contig00765': 2, 'contig00051': 1, 'contig00994': 16, 'contig00586': 2, 'contig00502': 2, 'contig00309': 0, 'contig00613': 1, 'contig00811': 1, 'contig01035': 2, 'contig00930': 0, 'contig00225': 1, 'contig00648': 0, 'contig00543': 2, 'contig01122': 4, 'contig00932': 7, 'contig00827': 0, 'contig00295': 0, 'contig00426': 0, 'contig00129': 2, 'contig00715': 0, 'contig00422': 0, 'contig01067': 0, 'contig00245': 0, 'contig00187': 0, 'contig01143': 1, 'contig01244': 5, 'contig00057': 0, 'contig01321': 3, 'contig00482': 2, 'contig00018': 13, 'contig00515': 5, 'contig00407': 1, 'contig00725': 5, 'contig00774': 1, 'contig00087': 0, 'contig01236': 2, 'contig01304': 8, 'contig00244': 5, 'contig01025': 0, 'contig00040': 5, 'contig01074': 0, 'contig00193': 1, 'contig00471': 0, 'contig00777': 1, 'contig00083': 0, 'contig00015': 1, 'contig00597': 0, 'contig01076': 0, 'contig00816': 0, 'contig00874': 1, 'contig00690': 0, 'contig00573': 1, 'contig01318': 1, 'contig00050': 2, 'contig00002': 1, 'contig00734': 0, 'contig00122': 0, 'contig00004': 1, 'contig00475': 1, 'contig01176': 0, 'contig00217': 0, 'contig01314': 1, 'contig00247': 11, 'contig00971': 5, 'contig00671': 1, 'contig00380': 1, 'contig00769': 12, 'contig00631': 0, 'contig00753': 0, 'contig00402': 2, 'contig00826': 1, 'contig00398': 0, 'contig00506': 1, 'contig00683': 1, 'contig01313': 2, 'contig01208': 1, 'contig01277': 17, 'contig00198': 0, 'contig01062': 0, 'contig01255': 1, 'contig01011': 0, 'contig01010': 0, 'contig01251': 0, 'contig00072': 2, 'contig00976': 1, 'contig00941': 1, 'contig01193': 1, 'contig01110': 1, 'contig00914': 8, 'contig00441': 0, 'contig01039': 1, 'contig01218': 2, 'contig00721': 0, 'contig00202': 2, 'contig01013': 1, 'contig00520': 0, 'contig00023': 2, 'contig00670': 1, 'contig00450': 1, 'contig01223': 1, 'contig01189': 0, 'contig00674': 1, 'contig00898': 5, 'contig00125': 3, 'contig00595': 1, 'contig01140': 2, 'contig01128': 0, 'contig00479': 1, 'contig01252': 0, 'contig00488': 0, 'contig00183': 1, 'contig00929': 1, 'contig00405': 3, 'contig01213': 1, 'contig00121': 0, 'contig00757': 1, 'contig01101': 5, 'contig00205': 0, 'contig00435': 1, 'contig00839': 3, 'contig00569': 0, 'contig00855': 0, 'contig00759': 1, 'contig00639': 2, 'contig00843': 0, 'contig00672': 2, 'contig01368': 3, 'contig01075': 0, 'contig00701': 1, 'contig01159': 2, 'contig00174': 3, 'contig00017': 6, 'contig00756': 3, 'contig00169': 0, 'contig01295': 3, 'contig00434': 1, 'contig00292': 0, 'contig00675': 1, 'contig01105': 2, 'contig00058': 2, 'contig01276': 2, 'contig00825': 1, 'contig00099': 0, 'contig01379': 2, 'contig01081': 1, 'contig01090': 2, 'contig00383': 2, 'contig00793': 0, 'contig00376': 0, 'contig00480': 1, 'contig01259': 0, 'contig00705': 0, 'contig00986': 6, 'contig00706': 6, 'contig01296': 4, 'contig00644': 2, 'contig00406': 0, 'contig01254': 1, 'contig01369': 0, 'contig00008': 3, 'contig00510': 1, 'contig00824': 4, 'contig00822': 0, 'contig00452': 1, 'contig00660': 2, 'contig00710': 1, 'contig00476': 4, 'contig01284': 0, 'contig01297': 6, 'contig00286': 0, 'contig00996': 6, 'contig01286': 13, 'contig00238': 20, 'contig00972': 9, 'contig00859': 4, 'contig00487': 1, 'contig00818': 2, 'contig00909': 3, 'contig00130': 0, 'contig01198': 0, 'contig01029': 0, 'contig00587': 2, 'contig01032': 1, 'contig01312': 20, 'contig01195': 3, 'contig01266': 0, 'contig00151': 0, 'contig01351': 0, 'contig01331': 2, 'contig01225': 4, 'contig00066': 0, 'contig01044': 3, 'contig00530': 0, 'contig00786': 4, 'contig01030': 4, 'contig00199': 3, 'contig00484': 0, 'contig01097': 1, 'contig00637': 2, 'contig00821': 14, 'contig00771': 2, 'contig00399': 1, 'contig00385': 1, 'contig00650': 0, 'contig00060': 4, 'contig00739': 1, 'contig00214': 0, 'contig00664': 1, 'contig00356': 2, 'contig01028': 1, 'contig01374': 3, 'contig00499': 0, 'contig01346': 3, 'contig01363': 4, 'contig00010': 0, 'contig00600': 0, 'contig00022': 4, 'contig00420': 0, 'contig00947': 2, 'contig01335': 4, 'contig00549': 1, 'contig00718': 2, 'contig00503': 4, 'contig01319': 0, 'contig00235': 5, 'contig01021': 5, 'contig01106': 0, 'contig00260': 0, 'contig00625': 1, 'contig00513': 5, 'contig01267': 0, 'contig01138': 2, 'contig00031': 0, 'contig00892': 0, 'contig00558': 6, 'contig00423': 0, 'contig00601': 1, 'contig00720': 0, 'contig00081': 0, 'contig00863': 0, 'contig00905': 6, 'contig01089': 1, 'contig00345': 0, 'contig00342': 0, 'contig00478': 2, 'contig00028': 1, 'contig00714': 0, 'contig00251': 4, 'contig01309': 3, 'contig00901': 7, 'contig00945': 0, 'contig01274': 1, 'contig00723': 1, 'contig01163': 1, 'contig01305': 1, 'contig00353': 0, 'contig00688': 0, 'contig00374': 7, 'contig00517': 2, 'contig00647': 0, 'contig00984': 2, 'contig00514': 0, 'contig00283': 0, 'contig00453': 0, 'contig01023': 2, 'contig00211': 1, 'contig00135': 0, 'contig01315': 1, 'contig01229': 0, 'contig00068': 7, 'contig00724': 0, 'contig00118': 3, 'contig00522': 6, 'contig00955': 0, 'contig00610': 1, 'contig00911': 9, 'contig01356': 0, 'contig00735': 0, 'contig00234': 5, 'contig00332': 0, 'contig00144': 4, 'contig00948': 0, 'contig01272': 1, 'contig00354': 0, 'contig00387': 16, 'contig00904': 1, 'contig00416': 0, 'contig01308': 2, 'contig01057': 1, 'contig00951': 4, 'contig00256': 1, 'contig00233': 3, 'contig01080': 0, 'contig00708': 1, 'contig00809': 2, 'contig00778': 1, 'contig00384': 2, 'contig00607': 0, 'contig00908': 0, 'contig00189': 0, 'contig00490': 0, 'contig00011': 33, 'contig00168': 4, 'contig01026': 0, 'contig00516': 2, 'contig01127': 5, 'contig01160': 2, 'contig00851': 0, 'contig00181': 0, 'contig00265': 0, 'contig01042': 5, 'contig01016': 0, 'contig00253': 2, 'contig00922': 7, 'contig00967': 5, 'contig01245': 7, 'contig00207': 1, 'contig01275': 1, 'contig00105': 2, 'contig00397': 1, 'contig00436': 0, 'contig00949': 1, 'contig00958': 4, 'contig01038': 3, 'contig00363': 1, 'contig01327': 3, 'contig00496': 0, 'contig00779': 0, 'contig00350': 0, 'contig00495': 1, 'contig00430': 1, 'contig00061': 0, 'contig00767': 1, 'contig00832': 1, 'contig00158': 3, 'contig00459': 2, 'contig00451': 1, 'contig00396': 0, 'contig00089': 0, 'contig00617': 0, 'contig00663': 0, 'contig00981': 8, 'contig01322': 4, 'contig00534': 7, 'contig00457': 5, 'contig00404': 2, 'contig00563': 1, 'contig00409': 1, 'contig01078': 0, 'contig00697': 1, 'contig00053': 2, 'contig00491': 2, 'contig00458': 1, 'contig00148': 2, 'contig00526': 0, 'contig00005': 4, 'contig00883': 1, 'contig00228': 0, 'contig01036': 5, 'contig00776': 0, 'contig00171': 2, 'contig01123': 0, 'contig00773': 2, 'contig00985': 9, 'contig01264': 0, 'contig00511': 0, 'contig00570': 1, 'contig01018': 7, 'contig01027': 0, 'contig00437': 0, 'contig00910': 0, 'contig01243': 1, 'contig00993': 10, 'contig00025': 0, 'contig00766': 1, 'contig00952': 6, 'contig00465': 1, 'contig00902': 13, 'contig00555': 0, 'contig01301': 0, 'contig01055': 4, 'contig00224': 2, 'contig00557': 0, 'contig00709': 3, 'contig00352': 0, 'contig00799': 0, 'contig00540': 1, 'contig01380': 1, 'contig00262': 0, 'contig00626': 4, 'contig00443': 1, 'contig00229': 0, 'contig01289': 1, 'contig01148': 4, 'contig00882': 1, 'contig00014': 0, 'contig00542': 3, 'contig00561': 1, 'contig01203': 0, 'contig00953': 0, 'contig00163': 0, 'contig01053': 1, 'contig01124': 1, 'contig01020': 1, 'contig01015': 0, 'contig00133': 2, 'contig01337': 2, 'contig01100': 1, 'contig01186': 0, 'contig00711': 9, 'contig01092': 1, 'contig00429': 0, 'contig00101': 0, 'contig01336': 7, 'contig00107': 1, 'contig00126': 2, 'contig01357': 1, 'contig01154': 0, 'contig01063': 3, 'contig00432': 1, 'contig00494': 1, 'contig00039': 1, 'contig00219': 0, 'contig01200': 0, 'contig00919': 9, 'contig00924': 2, 'contig00581': 0, 'contig01180': 0, 'contig00439': 0, 'contig01073': 0, 'contig01226': 0, 'contig01174': 1, 'contig00630': 0, 'contig01116': 1, 'contig00641': 0, 'contig01358': 0, 'contig00306': 2, 'contig00806': 2, 'contig00745': 7, 'contig01212': 0, 'contig01292': 1, 'contig00355': 3, 'contig00632': 1, 'contig01345': 0, 'contig00389': 0, 'contig00628': 0, 'contig01340': 1, 'contig00493': 0, 'contig01302': 0, 'contig00197': 0, 'contig00783': 1, 'contig01310': 2, 'contig00854': 0, 'contig01169': 1, 'contig01365': 0, 'contig01241': 19, 'contig00612': 0, 'contig01221': 1, 'contig01046': 4, 'contig00896': 0, 'contig01375': 7, 'contig01385': 0, 'contig00782': 2, 'contig00536': 1, 'contig00254': 0, 'contig00084': 4, 'contig00362': 10, 'contig00273': 1, 'contig00545': 0, 'contig01199': 0, 'contig00995': 0, 'contig00980': 7, 'contig01330': 8, 'contig01288': 0, 'contig00978': 4, 'contig00055': 0, 'contig00713': 0, 'contig00103': 0, 'contig00673': 1, 'contig00676': 0, 'contig01107': 1, 'contig01320': 2, 'contig00691': 2, 'contig00442': 0, 'contig00959': 1, 'contig00372': 1, 'contig00912': 0, 'contig00258': 7, 'contig00170': 0, 'contig00699': 1, 'contig01121': 3, 'contig00048': 0, 'contig00349': 4, 'contig00962': 0, 'contig00173': 0, 'contig00546': 2, 'contig00086': 2, 'contig01161': 0, 'contig00034': 3, 'contig01156': 2, 'contig00560': 6, 'contig00206': 0, 'contig00552': 0, 'contig00036': 6, 'contig01041': 0, 'contig00124': 4, 'contig01347': 0}\n"
     ]
    }
   ],
   "source": [
    "import re\n",
    "file=open(\"/home/eeb177-student/Desktop/eeb-177/CSB/unix/data/Marra2014_data.fasta\")\n",
    "sequence=file.read()\n",
    "#get all contigs\n",
    "contig_name=re.findall(\">(...........)\", sequence)\n",
    "#get the sequence altogether\n",
    "sequence=sequence.replace(\"\\n\", \"\")\n",
    "sequence=sequence.replace(\">\", \"\\n\")\n",
    "#output to new file\n",
    "new_file=open(\"/home/eeb177-student/Desktop/temp2.txt\", \"w\")\n",
    "new_file.write(sequence)\n",
    "#make new file readable\n",
    "new_file=open(\"/home/eeb177-student/Desktop//temp2.txt\")\n",
    "#find all AATG per line\n",
    "aatg=[]\n",
    "for line in new_file:\n",
    "    aatg.append(re.findall(\"AATG\", line))\n",
    "#find number of AATG\n",
    "numaatg=[]\n",
    "for index in range(len(aatg)):\n",
    "    numaatf.append(len(aatg[index]))\n",
    "#dictionary to add both lists to\n",
    "contig_dict={}\n",
    "#remove first entry\n",
    "numaatg.reverse()\n",
    "numaatg.pop()\n",
    "numaatg.reverse()\n",
    "#put it altogether\n",
    "for i in range(len(contig_name)):\n",
    "    contig_dict[contig_name[i]]=b[i]\n",
    "print(contig_dict)"
   ]
  },
  {
   "cell_type": "code",
   "execution_count": null,
   "metadata": {
    "collapsed": true
   },
   "outputs": [],
   "source": []
  }
 ],
 "metadata": {
  "anaconda-cloud": {},
  "kernelspec": {
   "display_name": "Python [default]",
   "language": "python",
   "name": "python3"
  },
  "language_info": {
   "codemirror_mode": {
    "name": "ipython",
    "version": 3
   },
   "file_extension": ".py",
   "mimetype": "text/x-python",
   "name": "python",
   "nbconvert_exporter": "python",
   "pygments_lexer": "ipython3",
   "version": "3.5.2"
  }
 },
 "nbformat": 4,
 "nbformat_minor": 2
}
