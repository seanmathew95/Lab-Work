{
 "cells": [
  {
   "cell_type": "code",
   "execution_count": 1,
   "metadata": {
    "collapsed": false
   },
   "outputs": [
    {
     "name": "stdout",
     "output_type": "stream",
     "text": [
      "What a pleasant temperature\n",
      "Please enter a valid number!\n",
      "Brrr! It's cold!\n",
      "It's pretty warm\n"
     ]
    }
   ],
   "source": [
    "#Question 2\n",
    "a=3\n",
    "b=17\n",
    "c=a+b\n",
    "favorite_animal=\"tiger\"\n",
    "favorite_dinners=[\"pizza\",\"sushi\",\"burritos\"]\n",
    "num_fav_dinners=len(favorite_dinners)\n",
    "\n",
    "\n",
    "#Question 3\n",
    "def hw3_function(temp):\n",
    "    if (type(temp)!=int):\n",
    "        print(\"Please enter a valid number!\")\n",
    "    elif (temp<5):\n",
    "        print(\"Brrr! It's cold!\")\n",
    "    elif (temp>25):\n",
    "        print(\"It's pretty warm\")\n",
    "    else: print(\"What a pleasant temperature\")\n",
    "hw3_function(15)\n",
    "hw3_function(\"cold\")\n",
    "hw3_function(4)\n",
    "hw3_function(30)\n",
    "\n",
    "    "
   ]
  },
  {
   "cell_type": "code",
   "execution_count": 15,
   "metadata": {
    "collapsed": false
   },
   "outputs": [
    {
     "name": "stdout",
     "output_type": "stream",
     "text": [
      "<_sre.SRE_Match object; span=(20, 25), match='GAAGA'>\n"
     ]
    }
   ],
   "source": [
    "#Question 4\n",
    "import re\n",
    "dna_sample=\"ATAATTAACGGAGCTTATTA\"\n",
    "print(re.search(\"G[AT][AT]G[ATGC]\", string=dna_sample))\n",
    "\n",
    "\n",
    "    "
   ]
  },
  {
   "cell_type": "code",
   "execution_count": 31,
   "metadata": {
    "collapsed": false
   },
   "outputs": [
    {
     "name": "stdout",
     "output_type": "stream",
     "text": [
      "You picked rock; Computer picked scissors; +1 for You!\n",
      "You picked paper; Computer picked paper; this is a tie\n",
      "You picked scissors; Computer picked rock; +1 for Computer\n",
      "Invalid answer. Please try again.\n"
     ]
    }
   ],
   "source": [
    "#Question 5\n",
    "import random\n",
    "def rps(answer):\n",
    "    my_list=(\"rock\",\"paper\",\"scissors\")\n",
    "    \n",
    "    win=\"+1 for You!\"\n",
    "    lose=\"+1 for Computer\"\n",
    "    tie=\"this is a tie\"\n",
    "    \n",
    "    comp_choice=random.choice(my_list)\n",
    "    \n",
    "    if(answer==\"rock\"):\n",
    "        if(comp_choice==\"rock\"): \n",
    "            wlt=tie\n",
    "        elif(comp_choice==\"paper\"): \n",
    "            wlt=lose\n",
    "        elif(comp_choice==\"scissors\"):\n",
    "            wlt=win\n",
    "    elif(answer==\"paper\"):\n",
    "        if(comp_choice==\"rock\"): \n",
    "            wlt=win\n",
    "        elif(comp_choice==\"paper\"): \n",
    "            wlt=tie\n",
    "        elif(comp_choice==\"scissors\"):\n",
    "            wlt=lose\n",
    "    elif(answer==\"scissors\"):\n",
    "        if(comp_choice==\"rock\"): \n",
    "            wlt=lose\n",
    "        elif(comp_choice==\"paper\"): \n",
    "            wlt=win\n",
    "        elif(comp_choice==\"scissors\"):\n",
    "            wlt=tie\n",
    "    else:\n",
    "        print(\"Invalid answer. Please try again.\")\n",
    "        return\n",
    "    print(\"You picked \" + answer +\"; Computer picked \" + comp_choice + \"; \" + wlt)\n",
    "            \n",
    "rps(\"rock\")\n",
    "rps(\"paper\")\n",
    "rps(\"scissors\")\n",
    "rps(\"nonsense\")"
   ]
  },
  {
   "cell_type": "code",
   "execution_count": 19,
   "metadata": {
    "collapsed": false
   },
   "outputs": [
    {
     "name": "stdout",
     "output_type": "stream",
     "text": [
      "Object `choice` not found.\n"
     ]
    }
   ],
   "source": []
  },
  {
   "cell_type": "code",
   "execution_count": null,
   "metadata": {
    "collapsed": true
   },
   "outputs": [],
   "source": []
  }
 ],
 "metadata": {
  "anaconda-cloud": {},
  "kernelspec": {
   "display_name": "Python [default]",
   "language": "python",
   "name": "python3"
  },
  "language_info": {
   "codemirror_mode": {
    "name": "ipython",
    "version": 3
   },
   "file_extension": ".py",
   "mimetype": "text/x-python",
   "name": "python",
   "nbconvert_exporter": "python",
   "pygments_lexer": "ipython3",
   "version": "3.5.2"
  }
 },
 "nbformat": 4,
 "nbformat_minor": 2
}
