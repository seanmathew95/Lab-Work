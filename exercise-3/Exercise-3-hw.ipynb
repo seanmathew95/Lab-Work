{
 "cells": [
  {
   "cell_type": "code",
   "execution_count": 10,
   "metadata": {
    "collapsed": false
   },
   "outputs": [
    {
     "name": "stdout",
     "output_type": "stream",
     "text": [
      "What a pleasant temperature\n"
     ]
    }
   ],
   "source": [
    "a=3\n",
    "b=17\n",
    "c=a+b\n",
    "favorite_animal=\"tiger\"\n",
    "favorite_dinners=[\"pizza\",\"sushi\",\"burritos\"]\n",
    "num_fav_dinners=len(favorite_dinners)\n",
    "\n",
    "def hw3_function(temp):\n",
    "    if (type(temp)!=int):\n",
    "        print(\"Please enter a valid number!\")\n",
    "    elif (temp<5):\n",
    "        print(\"Brrr! It's cold!\")\n",
    "    elif (temp>25):\n",
    "        print(\"It's pretty warm\")\n",
    "    else: print(\"What a pleasant temperature\")\n",
    "#hw3_function(15)\n",
    "#hw3_function(\"cold\")\n",
    "#hw3_function(4)\n",
    "#hw3_function(30)\n",
    "\n",
    "    "
   ]
  },
  {
   "cell_type": "code",
   "execution_count": null,
   "metadata": {
    "collapsed": true
   },
   "outputs": [],
   "source": []
  }
 ],
 "metadata": {
  "anaconda-cloud": {},
  "kernelspec": {
   "display_name": "Python [default]",
   "language": "python",
   "name": "python3"
  },
  "language_info": {
   "codemirror_mode": {
    "name": "ipython",
    "version": 3
   },
   "file_extension": ".py",
   "mimetype": "text/x-python",
   "name": "python",
   "nbconvert_exporter": "python",
   "pygments_lexer": "ipython3",
   "version": "3.5.2"
  }
 },
 "nbformat": 4,
 "nbformat_minor": 2
}
