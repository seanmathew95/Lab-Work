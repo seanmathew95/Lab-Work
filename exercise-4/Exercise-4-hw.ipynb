{
 "cells": [
  {
   "cell_type": "code",
   "execution_count": 1,
   "metadata": {
    "collapsed": false
   },
   "outputs": [
    {
     "name": "stdout",
     "output_type": "stream",
     "text": [
      "100\n",
      "101\n",
      "102\n",
      "103\n",
      "104\n",
      "105\n",
      "106\n",
      "107\n",
      "108\n",
      "109\n",
      "110\n"
     ]
    }
   ],
   "source": [
    "#1 print numbers 100 to 110 via for loop\n",
    "for number in range(100,111,1):\n",
    "    print(number)"
   ]
  },
  {
   "cell_type": "code",
   "execution_count": 7,
   "metadata": {
    "collapsed": false
   },
   "outputs": [
    {
     "name": "stdout",
     "output_type": "stream",
     "text": [
      "100\n",
      "101\n",
      "102\n",
      "103\n",
      "104\n",
      "105\n",
      "106\n",
      "107\n",
      "108\n",
      "109\n",
      "110\n"
     ]
    }
   ],
   "source": [
    "#2 print numbers 100 to 110 via while loop\n",
    "number =100\n",
    "while number < 111:\n",
    "    print (number)\n",
    "    number = number +1"
   ]
  },
  {
   "cell_type": "code",
   "execution_count": 8,
   "metadata": {
    "collapsed": false
   },
   "outputs": [
    {
     "name": "stdout",
     "output_type": "stream",
     "text": [
      "100\n",
      "121\n",
      "144\n",
      "169\n",
      "196\n",
      "225\n"
     ]
    }
   ],
   "source": [
    "#3 print square of 10 thru 15\n",
    "for number in range(10,16,1):\n",
    "    print(number**2)"
   ]
  },
  {
   "cell_type": "code",
   "execution_count": 11,
   "metadata": {
    "collapsed": false
   },
   "outputs": [
    {
     "name": "stdout",
     "output_type": "stream",
     "text": [
      "Scooby is a character in that most glorious of cartoons, Scooby Doo\n",
      "Shaggy is a character in that most glorious of cartoons, Scooby Doo\n",
      "Velma is a character in that most glorious of cartoons, Scooby Doo\n",
      "Daphne is a character in that most glorious of cartoons, Scooby Doo\n",
      "Fred is a character in that most glorious of cartoons, Scooby Doo\n"
     ]
    }
   ],
   "source": [
    "#4 Scooby Doo loop\n",
    "mystery_list = [\"Scooby\", \"Shaggy\", \"Velma\", \"Daphne\", \"Fred\"]\n",
    "for member in mystery_list:\n",
    "    print(member + \" is a character in that most glorious of cartoons, Scooby Doo\")"
   ]
  },
  {
   "cell_type": "code",
   "execution_count": 32,
   "metadata": {
    "collapsed": false
   },
   "outputs": [
    {
     "name": "stdout",
     "output_type": "stream",
     "text": [
      "0\n",
      "120\n",
      "3\n",
      "Invalid input, please try again\n"
     ]
    }
   ],
   "source": [
    "#5 fact or sum function\n",
    "def fact_or_sum(number):\n",
    "    fact_total=1\n",
    "    sum_total=0\n",
    "    if (type(number) != int):\n",
    "        return (\"Invalid input, please try again\")\n",
    "        \n",
    "    if number == 0:\n",
    "        return(number)\n",
    "    elif(number%2) == 1:\n",
    "        for fact in range(number,0,-1):\n",
    "            fact_total=fact_total*fact\n",
    "        return(fact_total)\n",
    "    elif(number%2) == 0:\n",
    "        while number > 0:\n",
    "            sum_total=sum_total + number\n",
    "            number=number -1\n",
    "        return(sum_total)\n",
    "        \n",
    "\n",
    "print(fact_or_sum(0))\n",
    "print(fact_or_sum(5))\n",
    "print(fact_or_sum(2))\n",
    "print(fact_or_sum(\"hello\"))\n",
    "        \n",
    "        "
   ]
  },
  {
   "cell_type": "code",
   "execution_count": null,
   "metadata": {
    "collapsed": true
   },
   "outputs": [],
   "source": []
  }
 ],
 "metadata": {
  "anaconda-cloud": {},
  "kernelspec": {
   "display_name": "Python [default]",
   "language": "python",
   "name": "python3"
  },
  "language_info": {
   "codemirror_mode": {
    "name": "ipython",
    "version": 3
   },
   "file_extension": ".py",
   "mimetype": "text/x-python",
   "name": "python",
   "nbconvert_exporter": "python",
   "pygments_lexer": "ipython3",
   "version": "3.5.2"
  }
 },
 "nbformat": 4,
 "nbformat_minor": 2
}
